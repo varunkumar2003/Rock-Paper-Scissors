{
 "cells": [
  {
   "cell_type": "code",
   "execution_count": null,
   "id": "bbc9ea9b",
   "metadata": {},
   "outputs": [
    {
     "name": "stdout",
     "output_type": "stream",
     "text": [
      "player one-please enter your choice: 1\n",
      "player two-please enter your choice: 1\n"
     ]
    }
   ],
   "source": [
    "def rock_paper_scissor(num1,num2,bit1,bit2):\n",
    "    p1=int(num1[bit1])%3\n",
    "    p2=int(num2[bit2])%3\n",
    "    if(player1[p1]==player2[p2]):\n",
    "        print(\"draw\")\n",
    "    elif(player1[p1]==\"rock\"and player2[p2]==\"scissor\"):\n",
    "        print(\"Player one wins\")\n",
    "    elif(player1[p1]==\"rock\"and player2[p2]==\"paper\"):\n",
    "        print(\"Player two wins\")\n",
    "    elif(player1[p1]==\"paper\"and player2[p2]==\"scissor\"):\n",
    "        print(\"Player two wins\")\n",
    "    elif(player1[p1]==\"paper\"and player2[p2]==\"rock\"):\n",
    "        print(\"Player one wins\")\n",
    "    elif(player1[p1]==\"scissor\"and player2[p2]==\"paper\"):\n",
    "        print(\"Player one wins\")\n",
    "    elif(player1[p1]==\"scissor\"and player2[p2]==\"rock\"):\n",
    "        print(\"Player two wins\")\n",
    "        \n",
    "player1={0:'rock',1:'paper',2:'scissor'}\n",
    "player2={0:'scissor',1:'rock',2:'paper'}\n",
    "\n",
    "while(1):\n",
    "    num1=input(\"player one-please enter your choice: \")\n",
    "    num2=input(\"player two-please enter your choice: \")\n",
    "    bit1=int(input(\"player one, enter the secret bit position(should be less than length of num1): \"))\n",
    "    bit2=int(input(\"player two, enter the secret bit position(should be less than length of num2): \"))\n",
    "    rock_paper_scissor(num1,num2,bit1,bit2)\n",
    "    vk=input(\"do you want to contine yes/no: \")\n",
    "    if(vk=='no'or vk=='No'or vk=='nO'or vk=='NO'):\n",
    "        break"
   ]
  },
  {
   "cell_type": "code",
   "execution_count": null,
   "id": "72c5fe6b",
   "metadata": {},
   "outputs": [],
   "source": []
  }
 ],
 "metadata": {
  "kernelspec": {
   "display_name": "Python 3 (ipykernel)",
   "language": "python",
   "name": "python3"
  },
  "language_info": {
   "codemirror_mode": {
    "name": "ipython",
    "version": 3
   },
   "file_extension": ".py",
   "mimetype": "text/x-python",
   "name": "python",
   "nbconvert_exporter": "python",
   "pygments_lexer": "ipython3",
   "version": "3.9.7"
  }
 },
 "nbformat": 4,
 "nbformat_minor": 5
}
